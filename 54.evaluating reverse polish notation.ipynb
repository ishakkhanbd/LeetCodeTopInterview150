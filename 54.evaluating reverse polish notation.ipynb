{
 "cells": [
  {
   "cell_type": "code",
   "execution_count": null,
   "id": "f2a1909e",
   "metadata": {},
   "outputs": [],
   "source": [
    "class Solution:\n",
    "    def evalRPN(self, tokens: List[str]) -> int:\n",
    "        st = []\n",
    "\n",
    "        def is_operator(s):\n",
    "            return s in [\"+\", \"-\", \"*\", \"/\"]\n",
    "\n",
    "        for token in tokens:\n",
    "            if is_operator(token):\n",
    "                ele2 = int(st.pop())\n",
    "                ele1 = int(st.pop())\n",
    "                if token == \"+\":\n",
    "                    result = ele1 + ele2\n",
    "                elif token == \"-\":\n",
    "                    result = ele1 - ele2\n",
    "                elif token == \"/\":\n",
    "                    result = int(ele1 / ele2)\n",
    "                elif token == \"*\":\n",
    "                    result = ele1 * ele2\n",
    "                st.append(str(result))\n",
    "            else:\n",
    "                st.append(token)\n",
    "        return int(st[-1])"
   ]
  }
 ],
 "metadata": {
  "kernelspec": {
   "display_name": "Python 3 (ipykernel)",
   "language": "python",
   "name": "python3"
  },
  "language_info": {
   "codemirror_mode": {
    "name": "ipython",
    "version": 3
   },
   "file_extension": ".py",
   "mimetype": "text/x-python",
   "name": "python",
   "nbconvert_exporter": "python",
   "pygments_lexer": "ipython3",
   "version": "3.9.12"
  }
 },
 "nbformat": 4,
 "nbformat_minor": 5
}
