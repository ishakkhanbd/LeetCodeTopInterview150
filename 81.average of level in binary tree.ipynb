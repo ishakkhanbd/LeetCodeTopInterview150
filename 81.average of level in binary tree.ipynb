{
 "cells": [
  {
   "cell_type": "code",
   "execution_count": null,
   "id": "94717da2",
   "metadata": {},
   "outputs": [],
   "source": [
    "# Definition for a binary tree node.\n",
    "# class TreeNode:\n",
    "#     def __init__(self, val=0, left=None, right=None):\n",
    "#         self.val = val\n",
    "#         self.left = left\n",
    "#         self.right = right\n",
    "class Solution:\n",
    "    def averageOfLevels(self, root: Optional[TreeNode]) -> List[float]:\n",
    "        level_sum, level_count = [], []\n",
    "        def dfs(root, height):\n",
    "            if not root:\n",
    "                return\n",
    "            if height > len(level_sum):\n",
    "                level_sum.append(root.val)\n",
    "                level_count.append(1)\n",
    "            else:\n",
    "                level_sum[height-1] += root.val\n",
    "                level_count[height-1] += 1\n",
    "            dfs(root.left, height+1)\n",
    "            dfs(root.right, height+1)\n",
    "\n",
    "        result = dfs(root, 1)\n",
    "        return [level_sum[i]/level_count[i] for i in range(len(level_sum))]"
   ]
  }
 ],
 "metadata": {
  "kernelspec": {
   "display_name": "Python 3 (ipykernel)",
   "language": "python",
   "name": "python3"
  },
  "language_info": {
   "codemirror_mode": {
    "name": "ipython",
    "version": 3
   },
   "file_extension": ".py",
   "mimetype": "text/x-python",
   "name": "python",
   "nbconvert_exporter": "python",
   "pygments_lexer": "ipython3",
   "version": "3.9.12"
  }
 },
 "nbformat": 4,
 "nbformat_minor": 5
}
