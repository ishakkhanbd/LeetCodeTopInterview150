{
 "cells": [
  {
   "cell_type": "code",
   "execution_count": null,
   "id": "9a773e15",
   "metadata": {},
   "outputs": [],
   "source": [
    "# Definition for a binary tree node.\n",
    "# class TreeNode:\n",
    "#     def __init__(self, val=0, left=None, right=None):\n",
    "#         self.val = val\n",
    "#         self.left = left\n",
    "#         self.right = right\n",
    "class BSTIterator:\n",
    "    def __init__(self, root: Optional[TreeNode]):\n",
    "        self.iter = self._inorder(root)\n",
    "        self.nxt = next(self.iter, None)\n",
    "    \n",
    "    def _inorder(self, node: Optional[TreeNode]) -> Generator[int, None, None]:\n",
    "        if node:\n",
    "            yield from self._inorder(node.left)\n",
    "            yield node.val\n",
    "            yield from self._inorder(node.right)\n",
    "\n",
    "    def next(self) -> int:\n",
    "        res, self.nxt = self.nxt, next(self.iter, None)\n",
    "        return res\n",
    "\n",
    "    def hasNext(self) -> bool:\n",
    "        return self.nxt is not None\n",
    "        \n",
    "\n",
    "    \n",
    "        \n",
    "\n",
    "\n",
    "# Your BSTIterator object will be instantiated and called as such:\n",
    "# obj = BSTIterator(root)\n",
    "# param_1 = obj.next()\n",
    "# param_2 = obj.hasNext()"
   ]
  }
 ],
 "metadata": {
  "kernelspec": {
   "display_name": "Python 3 (ipykernel)",
   "language": "python",
   "name": "python3"
  },
  "language_info": {
   "codemirror_mode": {
    "name": "ipython",
    "version": 3
   },
   "file_extension": ".py",
   "mimetype": "text/x-python",
   "name": "python",
   "nbconvert_exporter": "python",
   "pygments_lexer": "ipython3",
   "version": "3.9.12"
  }
 },
 "nbformat": 4,
 "nbformat_minor": 5
}
