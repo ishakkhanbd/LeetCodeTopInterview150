{
 "cells": [
  {
   "cell_type": "code",
   "execution_count": null,
   "id": "97e464f6",
   "metadata": {},
   "outputs": [],
   "source": [
    "# Definition for a binary tree node.\n",
    "# class TreeNode:\n",
    "#     def __init__(self, val=0, left=None, right=None):\n",
    "#         self.val = val\n",
    "#         self.left = left\n",
    "#         self.right = right\n",
    "class Solution:\n",
    "    def buildTree(self, inorder: list[int], postorder: list[int]) -> TreeNode | None:\n",
    "        in_index_map = dict(map(reversed, enumerate(inorder)))\n",
    "        \n",
    "        def build_tree(post_end: int, in_start: int, in_end: int) -> tuple[TreeNode | None, int]:\n",
    "            if in_start >= in_end: return None, post_end\n",
    "            \n",
    "            root_val = postorder[post_end]\n",
    "            root_index = in_index_map[root_val]\n",
    "            \n",
    "            r_tree, post_start = build_tree(post_end - 1, root_index + 1, in_end)\n",
    "            l_tree, post_start = build_tree(post_start, in_start, root_index)\n",
    "            \n",
    "            return TreeNode(root_val, l_tree, r_tree), post_start\n",
    "        \n",
    "        return build_tree(len(postorder) - 1, 0, len(inorder))[0]\n",
    "        "
   ]
  }
 ],
 "metadata": {
  "kernelspec": {
   "display_name": "Python 3 (ipykernel)",
   "language": "python",
   "name": "python3"
  },
  "language_info": {
   "codemirror_mode": {
    "name": "ipython",
    "version": 3
   },
   "file_extension": ".py",
   "mimetype": "text/x-python",
   "name": "python",
   "nbconvert_exporter": "python",
   "pygments_lexer": "ipython3",
   "version": "3.9.12"
  }
 },
 "nbformat": 4,
 "nbformat_minor": 5
}
