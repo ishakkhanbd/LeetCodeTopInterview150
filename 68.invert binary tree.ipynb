{
 "cells": [
  {
   "cell_type": "code",
   "execution_count": null,
   "id": "f4733f19",
   "metadata": {},
   "outputs": [],
   "source": [
    "class Solution:\n",
    "    def invertTree(self, root: Optional[TreeNode]) -> Optional[TreeNode]:\n",
    "        if not root: #Base Case\n",
    "            return root\n",
    "        self.invertTree(root.left) #Call the left substree\n",
    "        self.invertTree(root.right)  #Call the right substree\n",
    "        # Swap the nodes\n",
    "        root.left, root.right = root.right, root.left\n",
    "        return root # Return the root"
   ]
  }
 ],
 "metadata": {
  "kernelspec": {
   "display_name": "Python 3 (ipykernel)",
   "language": "python",
   "name": "python3"
  },
  "language_info": {
   "codemirror_mode": {
    "name": "ipython",
    "version": 3
   },
   "file_extension": ".py",
   "mimetype": "text/x-python",
   "name": "python",
   "nbconvert_exporter": "python",
   "pygments_lexer": "ipython3",
   "version": "3.9.12"
  }
 },
 "nbformat": 4,
 "nbformat_minor": 5
}
