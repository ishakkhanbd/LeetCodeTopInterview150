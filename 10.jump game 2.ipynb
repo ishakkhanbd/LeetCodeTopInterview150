{
 "cells": [
  {
   "cell_type": "code",
   "execution_count": null,
   "id": "346f3f1b",
   "metadata": {},
   "outputs": [],
   "source": [
    "class Solution:\n",
    "    def jump(self, nums):\n",
    "        # Initialize reach (maximum reachable index), count (number of jumps), and last (rightmost index reached)\n",
    "        reach, count, last = 0, 0, 0\n",
    "        \n",
    "        # Loop through the array excluding the last element\n",
    "        for i in range(len(nums)-1):    \n",
    "            # Update reach to the maximum between reach and i + nums[i]\n",
    "            reach = max(reach, i + nums[i])\n",
    "        \n",
    "            # If i has reached the last index that can be reached with the current number of jumps\n",
    "            if i == last:\n",
    "                # Update last to the new maximum reachable index\n",
    "                last = reach\n",
    "                # Increment the number of jumps made so far\n",
    "                count += 1\n",
    "        \n",
    "        # Return the minimum number of jumps required\n",
    "        return count"
   ]
  }
 ],
 "metadata": {
  "kernelspec": {
   "display_name": "Python 3 (ipykernel)",
   "language": "python",
   "name": "python3"
  },
  "language_info": {
   "codemirror_mode": {
    "name": "ipython",
    "version": 3
   },
   "file_extension": ".py",
   "mimetype": "text/x-python",
   "name": "python",
   "nbconvert_exporter": "python",
   "pygments_lexer": "ipython3",
   "version": "3.9.12"
  }
 },
 "nbformat": 4,
 "nbformat_minor": 5
}
