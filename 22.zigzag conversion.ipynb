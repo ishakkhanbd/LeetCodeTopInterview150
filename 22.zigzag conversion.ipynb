{
 "cells": [
  {
   "cell_type": "code",
   "execution_count": null,
   "id": "210ea122",
   "metadata": {},
   "outputs": [],
   "source": [
    "class Solution:\n",
    "    def convert(self, s: str, numRows: int) -> str:\n",
    "        if numRows == 1:\n",
    "            return s\n",
    "\n",
    "        table = [\"\" for _ in range(numRows)]\n",
    "        is_beginning = True\n",
    "        ptr = 0\n",
    "\n",
    "        for i in range(len(s)):\n",
    "            if ptr == 0:\n",
    "                is_beginning = True\n",
    "            \n",
    "            if ptr == numRows - 1:\n",
    "                is_beginning = False\n",
    "            \n",
    "            if ptr < numRows and is_beginning:\n",
    "                table[ptr] += s[i]\n",
    "                ptr += 1\n",
    "            \n",
    "            if not is_beginning:\n",
    "                table[ptr] += s[i]\n",
    "                ptr -= 1\n",
    "\n",
    "        return \"\".join(table)"
   ]
  }
 ],
 "metadata": {
  "kernelspec": {
   "display_name": "Python 3 (ipykernel)",
   "language": "python",
   "name": "python3"
  },
  "language_info": {
   "codemirror_mode": {
    "name": "ipython",
    "version": 3
   },
   "file_extension": ".py",
   "mimetype": "text/x-python",
   "name": "python",
   "nbconvert_exporter": "python",
   "pygments_lexer": "ipython3",
   "version": "3.9.12"
  }
 },
 "nbformat": 4,
 "nbformat_minor": 5
}
