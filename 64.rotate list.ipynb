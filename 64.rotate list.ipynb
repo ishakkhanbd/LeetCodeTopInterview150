{
 "cells": [
  {
   "cell_type": "code",
   "execution_count": null,
   "id": "0bcfd580",
   "metadata": {},
   "outputs": [],
   "source": [
    "class Solution:\n",
    "    def reverse(self, arr: List[int], start: int, end: int) -> None:\n",
    "        while start < end:\n",
    "            arr[start], arr[end] = arr[end], arr[start]\n",
    "            start += 1\n",
    "            end -= 1\n",
    "\n",
    "    def rotate(self, arr: List[int], k: int) -> None:\n",
    "        n = len(arr)\n",
    "        k = k % n\n",
    "        self.reverse(arr, 0, n - k - 1)\n",
    "        self.reverse(arr, n - k, n - 1)\n",
    "        self.reverse(arr, 0, n - 1)\n",
    "\n",
    "    def rotateRight(self, head: Optional[ListNode], k: int) -> Optional[ListNode]:\n",
    "        if not head:\n",
    "            return head\n",
    "\n",
    "        vals = []\n",
    "        current = head\n",
    "        while current:\n",
    "            vals.append(current.val)\n",
    "            current = current.next\n",
    "\n",
    "        self.rotate(vals, k)\n",
    "\n",
    "        dummy = ListNode(-1)\n",
    "        current = dummy\n",
    "        for val in vals:\n",
    "            current.next = ListNode(val)\n",
    "            current = current.next\n",
    "\n",
    "        return dummy.next"
   ]
  }
 ],
 "metadata": {
  "kernelspec": {
   "display_name": "Python 3 (ipykernel)",
   "language": "python",
   "name": "python3"
  },
  "language_info": {
   "codemirror_mode": {
    "name": "ipython",
    "version": 3
   },
   "file_extension": ".py",
   "mimetype": "text/x-python",
   "name": "python",
   "nbconvert_exporter": "python",
   "pygments_lexer": "ipython3",
   "version": "3.9.12"
  }
 },
 "nbformat": 4,
 "nbformat_minor": 5
}
