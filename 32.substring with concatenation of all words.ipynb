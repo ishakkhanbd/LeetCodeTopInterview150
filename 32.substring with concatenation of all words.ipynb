{
 "cells": [
  {
   "cell_type": "code",
   "execution_count": null,
   "id": "d3654223",
   "metadata": {},
   "outputs": [],
   "source": [
    "class Solution:\n",
    "    def findSubstring(self, s: str, words: List[str]) -> List[int]:\n",
    "        if not words or not s:\n",
    "            return []\n",
    "\n",
    "        word_length = len(words[0])\n",
    "        total_length = word_length * len(words)\n",
    "        word_count = {}\n",
    "\n",
    "        # Create a frequency map for words\n",
    "        for word in words:\n",
    "            if word in word_count:\n",
    "                word_count[word] += 1\n",
    "            else:\n",
    "                word_count[word] = 1\n",
    "\n",
    "        result = []\n",
    "\n",
    "        # Check each possible window in the string\n",
    "        for i in range(word_length):\n",
    "            left = i\n",
    "            count = 0\n",
    "            temp_word_count = {}\n",
    "\n",
    "            for j in range(i, len(s) - word_length + 1, word_length):\n",
    "                word = s[j:j + word_length]\n",
    "                if word in word_count:\n",
    "                    temp_word_count[word] = temp_word_count.get(word, 0) + 1\n",
    "                    count += 1\n",
    "\n",
    "                    while temp_word_count[word] > word_count[word]:\n",
    "                        left_word = s[left:left + word_length]\n",
    "                        temp_word_count[left_word] -= 1\n",
    "                        left += word_length\n",
    "                        count -= 1\n",
    "\n",
    "                    if count == len(words):\n",
    "                        result.append(left)\n",
    "                else:\n",
    "                    temp_word_count.clear()\n",
    "                    count = 0\n",
    "                    left = j + word_length\n",
    "\n",
    "        return result"
   ]
  }
 ],
 "metadata": {
  "kernelspec": {
   "display_name": "Python 3 (ipykernel)",
   "language": "python",
   "name": "python3"
  },
  "language_info": {
   "codemirror_mode": {
    "name": "ipython",
    "version": 3
   },
   "file_extension": ".py",
   "mimetype": "text/x-python",
   "name": "python",
   "nbconvert_exporter": "python",
   "pygments_lexer": "ipython3",
   "version": "3.9.12"
  }
 },
 "nbformat": 4,
 "nbformat_minor": 5
}
