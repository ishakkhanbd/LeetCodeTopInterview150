{
 "cells": [
  {
   "cell_type": "code",
   "execution_count": null,
   "id": "0a2ef8d5",
   "metadata": {},
   "outputs": [],
   "source": [
    "# Definition for a binary tree node.\n",
    "# class TreeNode:\n",
    "#     def __init__(self, val=0, left=None, right=None):\n",
    "#         self.val = val\n",
    "#         self.left = left\n",
    "#         self.right = right\n",
    "class Solution:\n",
    "    def countNodes(self, root: Optional[TreeNode]) -> int:\n",
    "        if root is None:\n",
    "            return 0\n",
    "        if root.left is None and root.right is None:\n",
    "            return 1\n",
    "        elif root.right is None:\n",
    "            return 2\n",
    "        left_level = self.level(root.left)\n",
    "        right_level = self.level(root.right)\n",
    "        if left_level == right_level:\n",
    "            return 2 ** left_level + self.countNodes(root.right)\n",
    "        else:\n",
    "            return self.countNodes(root.left) + 2 ** right_level\n",
    "\n",
    "    def level(self, root):\n",
    "        i = 0\n",
    "        while root:\n",
    "            i += 1\n",
    "            root = root.left\n",
    "        return i"
   ]
  }
 ],
 "metadata": {
  "kernelspec": {
   "display_name": "Python 3 (ipykernel)",
   "language": "python",
   "name": "python3"
  },
  "language_info": {
   "codemirror_mode": {
    "name": "ipython",
    "version": 3
   },
   "file_extension": ".py",
   "mimetype": "text/x-python",
   "name": "python",
   "nbconvert_exporter": "python",
   "pygments_lexer": "ipython3",
   "version": "3.9.12"
  }
 },
 "nbformat": 4,
 "nbformat_minor": 5
}
