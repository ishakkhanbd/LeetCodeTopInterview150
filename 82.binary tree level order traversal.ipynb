{
 "cells": [
  {
   "cell_type": "code",
   "execution_count": null,
   "id": "4db1d440",
   "metadata": {},
   "outputs": [],
   "source": [
    "# Definition for a binary tree node.\n",
    "# class TreeNode:\n",
    "#     def __init__(self, val=0, left=None, right=None):\n",
    "#         self.val = val\n",
    "#         self.left = left\n",
    "#         self.right = right\n",
    "from collections import deque\n",
    "class Solution:\n",
    "    def levelOrder(self, root: Optional[TreeNode]) -> List[List[int]]:\n",
    "        if not root:\n",
    "            return []\n",
    "        Q = deque([root])\n",
    "        levels = [[root.val]]\n",
    "        temp = deque()\n",
    "\n",
    "        while Q:\n",
    "            node = Q.popleft()\n",
    "            if node.left: temp.append(node.left)\n",
    "            if node.right: temp.append(node.right)\n",
    "            \n",
    "            if not Q:\n",
    "                if temp:\n",
    "                    levels.append([n.val for n in temp])\n",
    "                Q = temp\n",
    "                temp = deque()\n",
    "\n",
    "        return levels"
   ]
  }
 ],
 "metadata": {
  "kernelspec": {
   "display_name": "Python 3 (ipykernel)",
   "language": "python",
   "name": "python3"
  },
  "language_info": {
   "codemirror_mode": {
    "name": "ipython",
    "version": 3
   },
   "file_extension": ".py",
   "mimetype": "text/x-python",
   "name": "python",
   "nbconvert_exporter": "python",
   "pygments_lexer": "ipython3",
   "version": "3.9.12"
  }
 },
 "nbformat": 4,
 "nbformat_minor": 5
}
