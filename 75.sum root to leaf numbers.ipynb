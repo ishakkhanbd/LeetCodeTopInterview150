{
 "cells": [
  {
   "cell_type": "code",
   "execution_count": null,
   "id": "332eeedc",
   "metadata": {},
   "outputs": [],
   "source": [
    "# Definition for a binary tree node.\n",
    "# class TreeNode:\n",
    "#     def __init__(self, val=0, left=None, right=None):\n",
    "#         self.val = val\n",
    "#         self.left = left\n",
    "#         self.right = right\n",
    "class Solution:\n",
    "    def sumNumbers(self, root: TreeNode) -> int:\n",
    "        def dfs(node, path):\n",
    "            nonlocal ans\n",
    "            if not node:\n",
    "                return\n",
    "            if not node.left and not node.right:\n",
    "                ans += path * 10 + node.val\n",
    "                return\n",
    "            dfs(node.left, path * 10 + node.val)\n",
    "            dfs(node.right, path * 10 + node.val)\n",
    "        \n",
    "        ans = 0\n",
    "        dfs(root, 0)\n",
    "        return ans"
   ]
  }
 ],
 "metadata": {
  "kernelspec": {
   "display_name": "Python 3 (ipykernel)",
   "language": "python",
   "name": "python3"
  },
  "language_info": {
   "codemirror_mode": {
    "name": "ipython",
    "version": 3
   },
   "file_extension": ".py",
   "mimetype": "text/x-python",
   "name": "python",
   "nbconvert_exporter": "python",
   "pygments_lexer": "ipython3",
   "version": "3.9.12"
  }
 },
 "nbformat": 4,
 "nbformat_minor": 5
}
