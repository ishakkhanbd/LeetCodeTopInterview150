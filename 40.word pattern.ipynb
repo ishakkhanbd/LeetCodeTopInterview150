{
 "cells": [
  {
   "cell_type": "code",
   "execution_count": null,
   "id": "d7288fcb",
   "metadata": {},
   "outputs": [],
   "source": [
    "class Solution:\n",
    "    def wordPattern(self, pattern: str, s: str) -> bool:\n",
    "        listOfStrings = s.split(' ')\n",
    "        list1 = []\n",
    "        list2 = []\n",
    "\n",
    "        for i in pattern:\n",
    "            list1.append(pattern.index(i))\n",
    "\n",
    "        for i in listOfStrings:\n",
    "            list2.append(listOfStrings.index(i))\n",
    "\n",
    "        if list1 == list2:\n",
    "            return True\n",
    "        else:\n",
    "            return False"
   ]
  }
 ],
 "metadata": {
  "kernelspec": {
   "display_name": "Python 3 (ipykernel)",
   "language": "python",
   "name": "python3"
  },
  "language_info": {
   "codemirror_mode": {
    "name": "ipython",
    "version": 3
   },
   "file_extension": ".py",
   "mimetype": "text/x-python",
   "name": "python",
   "nbconvert_exporter": "python",
   "pygments_lexer": "ipython3",
   "version": "3.9.12"
  }
 },
 "nbformat": 4,
 "nbformat_minor": 5
}
